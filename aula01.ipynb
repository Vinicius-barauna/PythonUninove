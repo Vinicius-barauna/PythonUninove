{
  "cells": [
    {
      "cell_type": "code",
      "execution_count": 1,
      "id": "449c2f23",
      "metadata": {
        "id": "449c2f23",
        "outputId": "ae99c0a0-b6c2-4e74-e272-db4f56d2b171",
        "colab": {
          "base_uri": "https://localhost:8080/"
        }
      },
      "outputs": [
        {
          "output_type": "stream",
          "name": "stdout",
          "text": [
            "digite seu nome: teste\n",
            "teste\n",
            "Olá mundo\n"
          ]
        }
      ],
      "source": [
        "nome = input(\"digite seu nome: \")\n",
        "print(nome)\n",
        "print(\"Olá mundoooooooooo\")"
      ]
    }
  ],
  "metadata": {
    "kernelspec": {
      "display_name": "Python 3",
      "language": "python",
      "name": "python3"
    },
    "language_info": {
      "codemirror_mode": {
        "name": "ipython",
        "version": 3
      },
      "file_extension": ".py",
      "mimetype": "text/x-python",
      "name": "python",
      "nbconvert_exporter": "python",
      "pygments_lexer": "ipython3",
      "version": "3.13.1"
    },
    "colab": {
      "provenance": []
    }
  },
  "nbformat": 4,
  "nbformat_minor": 5
}