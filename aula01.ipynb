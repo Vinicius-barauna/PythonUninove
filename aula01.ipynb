{
  "cells": [
    {
      "cell_type": "code",
      "execution_count": null,
      "id": "449c2f23",
      "metadata": {
        "id": "449c2f23",
        "outputId": "7e7bc53a-8fa0-4320-bdde-046984224922"
      },
      "outputs": [
        {
          "name": "stdout",
          "output_type": "stream",
          "text": [
            "aaaaaaa\n"
          ]
        }
      ],
      "source": [
        "nome = input(\"digite seu nome: \")\n",
        "print(nome)\n",
        "print(\"Olá mundo\")"
      ]
    }
  ],
  "metadata": {
    "kernelspec": {
      "display_name": "Python 3",
      "language": "python",
      "name": "python3"
    },
    "language_info": {
      "codemirror_mode": {
        "name": "ipython",
        "version": 3
      },
      "file_extension": ".py",
      "mimetype": "text/x-python",
      "name": "python",
      "nbconvert_exporter": "python",
      "pygments_lexer": "ipython3",
      "version": "3.13.1"
    },
    "colab": {
      "provenance": []
    }
  },
  "nbformat": 4,
  "nbformat_minor": 5
}