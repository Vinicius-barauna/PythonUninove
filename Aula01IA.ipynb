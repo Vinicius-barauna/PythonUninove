{
  "nbformat": 4,
  "nbformat_minor": 0,
  "metadata": {
    "colab": {
      "provenance": []
    },
    "kernelspec": {
      "name": "python3",
      "display_name": "Python 3"
    },
    "language_info": {
      "name": "python"
    }
  },
  "cells": [
    {
      "cell_type": "markdown",
      "source": [
        "# Tipos de Variaveis"
      ],
      "metadata": {
        "id": "4bB2sZnGfeDV"
      }
    },
    {
      "cell_type": "code",
      "execution_count": null,
      "metadata": {
        "id": "nG9m6h9CfaXF"
      },
      "outputs": [],
      "source": [
        "idade = 30      #int\n",
        "altura = 1.75   #float\n",
        "nome = \"João\"\n",
        "is_estudante = True"
      ]
    },
    {
      "cell_type": "markdown",
      "source": [
        "# Entrada de Dados"
      ],
      "metadata": {
        "id": "jCHYPel8gTAF"
      }
    },
    {
      "cell_type": "code",
      "source": [
        "nome = input(\"Digite o seu nome:\")"
      ],
      "metadata": {
        "id": "M4r6DxTDgVaT"
      },
      "execution_count": null,
      "outputs": []
    },
    {
      "cell_type": "markdown",
      "source": [
        "# Saida de Dados"
      ],
      "metadata": {
        "id": "jMprFW_7gZ9g"
      }
    },
    {
      "cell_type": "code",
      "source": [
        "idade = 25\n",
        "print(f\"Olá, {nome}! Você tem {idade} anos.\")"
      ],
      "metadata": {
        "colab": {
          "base_uri": "https://localhost:8080/"
        },
        "id": "QYGSi8jWgbfh",
        "outputId": "e8d43a8b-3f29-4b02-e3f1-4a4bace987e3"
      },
      "execution_count": null,
      "outputs": [
        {
          "output_type": "stream",
          "name": "stdout",
          "text": [
            "Olá, João! Você tem 25 anos.\n"
          ]
        }
      ]
    },
    {
      "cell_type": "markdown",
      "source": [
        "# IF (condição simples)"
      ],
      "metadata": {
        "id": "bVmK91PBgxcT"
      }
    },
    {
      "cell_type": "markdown",
      "source": [
        "Condição Simples"
      ],
      "metadata": {
        "id": "B7cwSYOtozoZ"
      }
    },
    {
      "cell_type": "code",
      "source": [
        "temperatura = 32\n",
        "\n",
        "if temperatura > 30:\n",
        "  print(\"Está calor!\")"
      ],
      "metadata": {
        "colab": {
          "base_uri": "https://localhost:8080/"
        },
        "id": "P4Z1wHpdg2mh",
        "outputId": "af2fa128-69be-4ca2-bc1b-eb5e6ce21728"
      },
      "execution_count": null,
      "outputs": [
        {
          "output_type": "stream",
          "name": "stdout",
          "text": [
            "Está calor!\n"
          ]
        }
      ]
    },
    {
      "cell_type": "markdown",
      "source": [
        "Com Alternativa"
      ],
      "metadata": {
        "id": "oM49qpF6o2ox"
      }
    },
    {
      "cell_type": "code",
      "source": [
        "idade = 16\n",
        "if idade >= 18:\n",
        "  print(\"Pode dirigir.\")\n",
        "else:\n",
        "  print(\"Não pode dirigir.\")"
      ],
      "metadata": {
        "id": "LYV3m51Uo5K1"
      },
      "execution_count": null,
      "outputs": []
    },
    {
      "cell_type": "markdown",
      "source": [
        "Múltiplos Caminhos"
      ],
      "metadata": {
        "id": "78_vOcZupBWb"
      }
    },
    {
      "cell_type": "code",
      "source": [
        "nota = 72\n",
        "if nota>= 90:\n",
        "  conceito =\"A\"\n",
        "elif nota >= 80:\n",
        "  conceito = \"B\"\n",
        "elif nota >= 70:\n",
        "  conceito = \"C\"\n",
        "elif nota >= 60:\n",
        "  conceito = \"D\"\n",
        "else:\n",
        "  conceito = \"F\"\n",
        "\n",
        "print(conceito)"
      ],
      "metadata": {
        "colab": {
          "base_uri": "https://localhost:8080/"
        },
        "id": "L4sDebBOpELT",
        "outputId": "05f7375e-9f29-4c63-9494-11abfd92b3c2"
      },
      "execution_count": null,
      "outputs": [
        {
          "output_type": "stream",
          "name": "stdout",
          "text": [
            "C\n"
          ]
        }
      ]
    },
    {
      "cell_type": "markdown",
      "source": [
        "Condicionais Alinhadas"
      ],
      "metadata": {
        "id": "rPcu5NzDpRcf"
      }
    },
    {
      "cell_type": "code",
      "source": [
        "idade = 20\n",
        "tem_carteira = True\n",
        "\n",
        "if idade >= 18:\n",
        "  if tem_carteira:\n",
        "    print(\"Pode dirigir legalmente.\")\n",
        "  else:\n",
        "    print(\"Maior de idade, mas sem carteira.\")\n",
        "else:\n",
        "  print(\"Menor de idade.\")"
      ],
      "metadata": {
        "id": "lZENunZ7pTxZ"
      },
      "execution_count": null,
      "outputs": []
    },
    {
      "cell_type": "markdown",
      "source": [
        "# Operadores de Comparação"
      ],
      "metadata": {
        "id": "vhmzaQjJpple"
      }
    },
    {
      "cell_type": "markdown",
      "source": [
        "(==) igual\n",
        "---\n",
        "(!=) diferente\n",
        "---\n",
        "(>) maior que\n",
        "---\n",
        "(>=) maior ou igual\n",
        "---\n",
        "(<) menor que\n",
        "---\n",
        "(<=) menor ou igual\n",
        "---\n",
        "(in/ not in) pertence / não pertence\n",
        "---\n",
        "\n"
      ],
      "metadata": {
        "id": "bSoPSwpUp8Jj"
      }
    },
    {
      "cell_type": "code",
      "source": [
        "print(5 == 5)   #True\n",
        "print(\"a\" in \"python\")  #False\n",
        "print(10 <= 7)  # False"
      ],
      "metadata": {
        "id": "Uvt9sI8qpw9q"
      },
      "execution_count": null,
      "outputs": []
    },
    {
      "cell_type": "markdown",
      "source": [
        "# Operadores Lógicos"
      ],
      "metadata": {
        "id": "ulJA503xqfsL"
      }
    },
    {
      "cell_type": "markdown",
      "source": [
        "(and) se ambos forem verdadeiros\n",
        "---\n",
        "(or) se pelo menos um for verdadeiro\n",
        "---\n",
        "(not) inverte a logica\n",
        "---\n",
        "\n"
      ],
      "metadata": {
        "id": "l0zNhnnvrGns"
      }
    },
    {
      "cell_type": "code",
      "source": [
        "idade = 22\n",
        "tem_carteira = True\n",
        "\n",
        "if idade >= 18 and tem_carteira:\n",
        "  print(\"Pode dirigir.\")\n",
        "\n",
        "tem_autorizacao = False\n",
        "if idade >= 18 or tem_autorizacao:\n",
        "  print(\"Pode dirigir, mesmo sem carteira.\")\n",
        "\n",
        "logado = False\n",
        "if not logado:\n",
        "  print(\"Faça login para continuar\")"
      ],
      "metadata": {
        "id": "qwOoqfJgqxN_"
      },
      "execution_count": null,
      "outputs": []
    },
    {
      "cell_type": "code",
      "source": [
        "a = True; b= False; c = True;\n",
        "print(a or b and not c)\n",
        "print((a or b)and (not c))"
      ],
      "metadata": {
        "colab": {
          "base_uri": "https://localhost:8080/"
        },
        "id": "yKOsEPCMrYRC",
        "outputId": "6bb71f44-b87d-4ddc-f5dc-cc68949c4ade"
      },
      "execution_count": null,
      "outputs": [
        {
          "output_type": "stream",
          "name": "stdout",
          "text": [
            "True\n",
            "False\n"
          ]
        }
      ]
    },
    {
      "cell_type": "markdown",
      "source": [
        "Curto-circuito (short-circuit)"
      ],
      "metadata": {
        "id": "seBflugnru-a"
      }
    },
    {
      "cell_type": "code",
      "source": [
        "def caro():\n",
        "  print(\"Chamado!\")\n",
        "  return True\n",
        "\n",
        "# Aqui caro() NÃO é chamado, pois (True or ...) já é True\n",
        "if True or caro():\n",
        "  pass\n",
        "\n",
        "# Aqui caro() NÃO é chamado, pois (True or ...) já é True\n",
        "if False and caro():\n",
        "  pass\n"
      ],
      "metadata": {
        "id": "83rm3Sh3rzF0"
      },
      "execution_count": null,
      "outputs": []
    },
    {
      "cell_type": "markdown",
      "source": [
        "# \"Verdade\" Em Python (truthiness)"
      ],
      "metadata": {
        "id": "qwYjmiPzsP2M"
      }
    },
    {
      "cell_type": "code",
      "source": [
        "#Alguns valores contam como falsos: False, None, 0, 0.0, '' (string vazia), [], {}, set(). Todo o resto é verdadeiro.\n",
        "nome = \"\"\n",
        "if not nome:\n",
        "  print(\"Nome não informado.\")"
      ],
      "metadata": {
        "colab": {
          "base_uri": "https://localhost:8080/"
        },
        "id": "Kj1aqqhcsX_Z",
        "outputId": "a8a9390e-7324-49b8-f704-1b439c64cdca"
      },
      "execution_count": null,
      "outputs": [
        {
          "output_type": "stream",
          "name": "stdout",
          "text": [
            "Nome não informado.\n"
          ]
        }
      ]
    },
    {
      "cell_type": "markdown",
      "source": [
        "# Exemplos"
      ],
      "metadata": {
        "id": "UQ2NFFF8tKnW"
      }
    },
    {
      "cell_type": "code",
      "source": [
        "usuario = \"prof\"\n",
        "senha = \"1234\"\n",
        "\n",
        "if usuario == \"prof\" and senha == \"1234\":\n",
        "    print(\"Login OK\")\n",
        "else:\n",
        "    print(\"Credenciais inválidas\")\n"
      ],
      "metadata": {
        "colab": {
          "base_uri": "https://localhost:8080/"
        },
        "id": "PZX_XRcusqJE",
        "outputId": "56e819b1-1d03-4158-f625-993a5ef010a5"
      },
      "execution_count": null,
      "outputs": [
        {
          "output_type": "stream",
          "name": "stdout",
          "text": [
            "Login OK\n"
          ]
        }
      ]
    },
    {
      "cell_type": "code",
      "source": [
        "imc = 27.3\n",
        "\n",
        "if imc < 18.5:\n",
        "    categoria = \"Abaixo do peso\"\n",
        "elif imc < 25:\n",
        "    categoria = \"Peso normal\"\n",
        "elif imc < 30:\n",
        "    categoria = \"Sobrepeso\"\n",
        "else:\n",
        "    categoria = \"Obesidade\"\n",
        "\n",
        "print(categoria)"
      ],
      "metadata": {
        "colab": {
          "base_uri": "https://localhost:8080/"
        },
        "id": "XFK2hHzKtIls",
        "outputId": "fe615f53-c241-4800-aa88-04727e0837a5"
      },
      "execution_count": null,
      "outputs": [
        {
          "output_type": "stream",
          "name": "stdout",
          "text": [
            "Sobrepeso\n"
          ]
        }
      ]
    },
    {
      "cell_type": "code",
      "source": [
        "extensao = \".png\"\n",
        "\n",
        "if extensao in (\".png\", \".jpg\", \".jpeg\"):\n",
        "    print(\"Arquivo de imagem aceito\")\n",
        "else:\n",
        "    print(\"Formato não suportado\")"
      ],
      "metadata": {
        "colab": {
          "base_uri": "https://localhost:8080/"
        },
        "id": "-OJg1riEtPeK",
        "outputId": "e42ec210-454c-4dbf-98df-f9b368e9195b"
      },
      "execution_count": null,
      "outputs": [
        {
          "output_type": "stream",
          "name": "stdout",
          "text": [
            "Arquivo de imagem aceito\n"
          ]
        }
      ]
    },
    {
      "cell_type": "code",
      "source": [
        "idade = 19\n",
        "renda = 2500\n",
        "\n",
        "if idade >= 18:\n",
        "    if renda >= 2000:\n",
        "        print(\"Aprovado\")\n",
        "    else:\n",
        "        print(\"Renda insuficiente\")\n",
        "else:\n",
        "    print(\"Menor de idade\")\n",
        "\n"
      ],
      "metadata": {
        "colab": {
          "base_uri": "https://localhost:8080/"
        },
        "id": "wsRxwASXtQ5q",
        "outputId": "8c594779-fa89-44fa-ed76-3436bf07bdfc"
      },
      "execution_count": null,
      "outputs": [
        {
          "output_type": "stream",
          "name": "stdout",
          "text": [
            "Aprovado\n"
          ]
        }
      ]
    },
    {
      "cell_type": "code",
      "source": [
        "if idade < 18:\n",
        "    print(\"Menor de idade\")\n",
        "elif renda < 2000:\n",
        "    print(\"Renda insuficiente\")\n",
        "else:\n",
        "    print(\"Aprovado\")\n"
      ],
      "metadata": {
        "colab": {
          "base_uri": "https://localhost:8080/"
        },
        "id": "IbfnLivetT44",
        "outputId": "72160ccf-ec55-4e7d-9b36-82e81cd22ad3"
      },
      "execution_count": null,
      "outputs": [
        {
          "output_type": "stream",
          "name": "stdout",
          "text": [
            "Aprovado\n"
          ]
        }
      ]
    },
    {
      "cell_type": "markdown",
      "source": [
        "# Expressão Condicional Curta"
      ],
      "metadata": {
        "id": "Vp8mHXXKtXVK"
      }
    },
    {
      "cell_type": "code",
      "source": [
        "nota = 75\n",
        "status = \"Aprovado\" if nota >= 60 else \"Reprovado\"\n",
        "print(status)"
      ],
      "metadata": {
        "id": "PiNzgL2EtbPy",
        "outputId": "9ddd2c2d-5faa-4bcb-9abf-d0a0ca22a503",
        "colab": {
          "base_uri": "https://localhost:8080/"
        }
      },
      "execution_count": null,
      "outputs": [
        {
          "output_type": "stream",
          "name": "stdout",
          "text": [
            "Aprovado\n"
          ]
        }
      ]
    }
  ]
}